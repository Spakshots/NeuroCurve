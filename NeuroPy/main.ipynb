{
 "cells": [
  {
   "cell_type": "code",
   "execution_count": 28,
   "id": "bd10a2c8",
   "metadata": {},
   "outputs": [
    {
     "ename": "ValueError",
     "evalue": "'NeuroPy/NeuroCurveImports.py' was not found in history, as a file, url, nor in the user namespace.",
     "output_type": "error",
     "traceback": [
      "\u001b[31m---------------------------------------------------------------------------\u001b[39m",
      "\u001b[31mNameError\u001b[39m                                 Traceback (most recent call last)",
      "\u001b[36mFile \u001b[39m\u001b[32m~/Library/Python/3.11/lib/python/site-packages/IPython/core/interactiveshell.py:4002\u001b[39m, in \u001b[36mInteractiveShell.find_user_code\u001b[39m\u001b[34m(self, target, raw, py_only, skip_encoding_cookie, search_ns)\u001b[39m\n\u001b[32m   4001\u001b[39m \u001b[38;5;28;01mtry\u001b[39;00m:                                              \u001b[38;5;66;03m# User namespace\u001b[39;00m\n\u001b[32m-> \u001b[39m\u001b[32m4002\u001b[39m     codeobj = \u001b[38;5;28meval\u001b[39m(target, \u001b[38;5;28mself\u001b[39m.user_ns)\n\u001b[32m   4003\u001b[39m \u001b[38;5;28;01mexcept\u001b[39;00m \u001b[38;5;167;01mException\u001b[39;00m \u001b[38;5;28;01mas\u001b[39;00m e:\n",
      "\u001b[36mFile \u001b[39m\u001b[32m<string>:1\u001b[39m\n",
      "\u001b[31mNameError\u001b[39m: name 'NeuroPy' is not defined",
      "\nThe above exception was the direct cause of the following exception:\n",
      "\u001b[31mValueError\u001b[39m                                Traceback (most recent call last)",
      "\u001b[36mCell\u001b[39m\u001b[36m \u001b[39m\u001b[32mIn[28]\u001b[39m\u001b[32m, line 1\u001b[39m\n\u001b[32m----> \u001b[39m\u001b[32m1\u001b[39m \u001b[43mget_ipython\u001b[49m\u001b[43m(\u001b[49m\u001b[43m)\u001b[49m\u001b[43m.\u001b[49m\u001b[43mrun_line_magic\u001b[49m\u001b[43m(\u001b[49m\u001b[33;43m'\u001b[39;49m\u001b[33;43mload\u001b[39;49m\u001b[33;43m'\u001b[39;49m\u001b[43m,\u001b[49m\u001b[43m \u001b[49m\u001b[33;43m'\u001b[39;49m\u001b[33;43mNeuroPy/NeuroCurveImports.py\u001b[39;49m\u001b[33;43m'\u001b[39;49m\u001b[43m)\u001b[49m\n\u001b[32m      2\u001b[39m \u001b[38;5;28;01mimport\u001b[39;00m\u001b[38;5;250m \u001b[39m\u001b[34;01mos\u001b[39;00m\n\u001b[32m      3\u001b[39m \u001b[38;5;28;01mimport\u001b[39;00m\u001b[38;5;250m \u001b[39m\u001b[34;01mnumpy\u001b[39;00m\u001b[38;5;250m \u001b[39m\u001b[38;5;28;01mas\u001b[39;00m\u001b[38;5;250m \u001b[39m\u001b[34;01mnp\u001b[39;00m\n",
      "\u001b[36mFile \u001b[39m\u001b[32m~/Library/Python/3.11/lib/python/site-packages/IPython/core/interactiveshell.py:2488\u001b[39m, in \u001b[36mInteractiveShell.run_line_magic\u001b[39m\u001b[34m(self, magic_name, line, _stack_depth)\u001b[39m\n\u001b[32m   2486\u001b[39m     kwargs[\u001b[33m'\u001b[39m\u001b[33mlocal_ns\u001b[39m\u001b[33m'\u001b[39m] = \u001b[38;5;28mself\u001b[39m.get_local_scope(stack_depth)\n\u001b[32m   2487\u001b[39m \u001b[38;5;28;01mwith\u001b[39;00m \u001b[38;5;28mself\u001b[39m.builtin_trap:\n\u001b[32m-> \u001b[39m\u001b[32m2488\u001b[39m     result = \u001b[43mfn\u001b[49m\u001b[43m(\u001b[49m\u001b[43m*\u001b[49m\u001b[43margs\u001b[49m\u001b[43m,\u001b[49m\u001b[43m \u001b[49m\u001b[43m*\u001b[49m\u001b[43m*\u001b[49m\u001b[43mkwargs\u001b[49m\u001b[43m)\u001b[49m\n\u001b[32m   2490\u001b[39m \u001b[38;5;66;03m# The code below prevents the output from being displayed\u001b[39;00m\n\u001b[32m   2491\u001b[39m \u001b[38;5;66;03m# when using magics with decorator @output_can_be_silenced\u001b[39;00m\n\u001b[32m   2492\u001b[39m \u001b[38;5;66;03m# when the last Python token in the expression is a ';'.\u001b[39;00m\n\u001b[32m   2493\u001b[39m \u001b[38;5;28;01mif\u001b[39;00m \u001b[38;5;28mgetattr\u001b[39m(fn, magic.MAGIC_OUTPUT_CAN_BE_SILENCED, \u001b[38;5;28;01mFalse\u001b[39;00m):\n",
      "\u001b[36mFile \u001b[39m\u001b[32m~/Library/Python/3.11/lib/python/site-packages/IPython/core/magics/code.py:361\u001b[39m, in \u001b[36mCodeMagics.load\u001b[39m\u001b[34m(self, arg_s)\u001b[39m\n\u001b[32m    359\u001b[39m opts,args = \u001b[38;5;28mself\u001b[39m.parse_options(arg_s,\u001b[33m'\u001b[39m\u001b[33myns:r:\u001b[39m\u001b[33m'\u001b[39m)\n\u001b[32m    360\u001b[39m search_ns = \u001b[33m'\u001b[39m\u001b[33mn\u001b[39m\u001b[33m'\u001b[39m \u001b[38;5;129;01min\u001b[39;00m opts\n\u001b[32m--> \u001b[39m\u001b[32m361\u001b[39m contents = \u001b[38;5;28;43mself\u001b[39;49m\u001b[43m.\u001b[49m\u001b[43mshell\u001b[49m\u001b[43m.\u001b[49m\u001b[43mfind_user_code\u001b[49m\u001b[43m(\u001b[49m\u001b[43margs\u001b[49m\u001b[43m,\u001b[49m\u001b[43m \u001b[49m\u001b[43msearch_ns\u001b[49m\u001b[43m=\u001b[49m\u001b[43msearch_ns\u001b[49m\u001b[43m)\u001b[49m\n\u001b[32m    363\u001b[39m \u001b[38;5;28;01mif\u001b[39;00m \u001b[33m'\u001b[39m\u001b[33ms\u001b[39m\u001b[33m'\u001b[39m \u001b[38;5;129;01min\u001b[39;00m opts:\n\u001b[32m    364\u001b[39m     \u001b[38;5;28;01mtry\u001b[39;00m:\n",
      "\u001b[36mFile \u001b[39m\u001b[32m~/Library/Python/3.11/lib/python/site-packages/IPython/core/interactiveshell.py:4004\u001b[39m, in \u001b[36mInteractiveShell.find_user_code\u001b[39m\u001b[34m(self, target, raw, py_only, skip_encoding_cookie, search_ns)\u001b[39m\n\u001b[32m   4002\u001b[39m     codeobj = \u001b[38;5;28meval\u001b[39m(target, \u001b[38;5;28mself\u001b[39m.user_ns)\n\u001b[32m   4003\u001b[39m \u001b[38;5;28;01mexcept\u001b[39;00m \u001b[38;5;167;01mException\u001b[39;00m \u001b[38;5;28;01mas\u001b[39;00m e:\n\u001b[32m-> \u001b[39m\u001b[32m4004\u001b[39m     \u001b[38;5;28;01mraise\u001b[39;00m \u001b[38;5;167;01mValueError\u001b[39;00m((\u001b[33m\"\u001b[39m\u001b[33m'\u001b[39m\u001b[38;5;132;01m%s\u001b[39;00m\u001b[33m'\u001b[39m\u001b[33m was not found in history, as a file, url, \u001b[39m\u001b[33m\"\u001b[39m\n\u001b[32m   4005\u001b[39m                         \u001b[33m\"\u001b[39m\u001b[33mnor in the user namespace.\u001b[39m\u001b[33m\"\u001b[39m) % target) \u001b[38;5;28;01mfrom\u001b[39;00m\u001b[38;5;250m \u001b[39m\u001b[34;01me\u001b[39;00m\n\u001b[32m   4007\u001b[39m \u001b[38;5;28;01mif\u001b[39;00m \u001b[38;5;28misinstance\u001b[39m(codeobj, \u001b[38;5;28mstr\u001b[39m):\n\u001b[32m   4008\u001b[39m     \u001b[38;5;28;01mreturn\u001b[39;00m codeobj\n",
      "\u001b[31mValueError\u001b[39m: 'NeuroPy/NeuroCurveImports.py' was not found in history, as a file, url, nor in the user namespace."
     ]
    }
   ],
   "source": [
    "%load NeuroPy/NeuroCurveImports.py\n",
    "import os\n",
    "import numpy as np\n",
    "import pandas as pd\n",
    "import matplotlib\n",
    "import matplotlib.pyplot as plt\n",
    "import csv\n",
    "os.chdir(\"..\")\n",
    "NeuroCurveOG = pd.read_csv(\"CSV/alzheimers_disease_data.csv\")\n",
    "usableCSV = pd.read_csv('CSV/output_CSVs/processed.csv')\n",
    "# %run (filename)\n"
   ]
  }
 ],
 "metadata": {
  "kernelspec": {
   "display_name": "Python 3",
   "language": "python",
   "name": "python3"
  },
  "language_info": {
   "codemirror_mode": {
    "name": "ipython",
    "version": 3
   },
   "file_extension": ".py",
   "mimetype": "text/x-python",
   "name": "python",
   "nbconvert_exporter": "python",
   "pygments_lexer": "ipython3",
   "version": "3.11.0"
  }
 },
 "nbformat": 4,
 "nbformat_minor": 5
}
