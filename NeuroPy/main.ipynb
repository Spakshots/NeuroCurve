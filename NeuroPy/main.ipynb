{
 "cells": [
  {
   "cell_type": "code",
   "execution_count": 1,
   "id": "69427b24",
   "metadata": {},
   "outputs": [],
   "source": [
    "import os\n",
    "import pandas as pd\n",
    "from sklearn.model_selection import train_test_split, GridSearchCV\n",
    "from sklearn.preprocessing import StandardScaler\n",
    "from sklearn.linear_model import LogisticRegression\n",
    "from sklearn.metrics import (\n",
    "    accuracy_score, confusion_matrix, classification_report,\n",
    "    roc_curve, roc_auc_score\n",
    ")\n",
    "import seaborn as sns\n",
    "import matplotlib.pyplot as plt\n",
    "from sklearn.model_selection import KFold, cross_val_score\n",
    "from sklearn.tree import DecisionTreeClassifier\n",
    "from sklearn.metrics import recall_score\n",
    "from sklearn.ensemble import RandomForestClassifier\n",
    "from sklearn.model_selection import StratifiedKFold\n",
    "#print(os.getcwd())\n",
    "#if os.path.basename(os.getcwd()) != 'NeuroCurve': os.chdir('NeuroCurve')"
   ]
  },
  {
   "cell_type": "markdown",
   "id": "cc739cc7",
   "metadata": {},
   "source": [
    "## Processing"
   ]
  },
  {
   "cell_type": "code",
   "execution_count": 2,
   "id": "ac2e8acb",
   "metadata": {},
   "outputs": [
    {
     "name": "stdout",
     "output_type": "stream",
     "text": [
      "(2149, 29)\n"
     ]
    },
    {
     "ename": "NameError",
     "evalue": "name 'X' is not defined",
     "output_type": "error",
     "traceback": [
      "\u001b[31m---------------------------------------------------------------------------\u001b[39m",
      "\u001b[31mNameError\u001b[39m                                 Traceback (most recent call last)",
      "\u001b[36mCell\u001b[39m\u001b[36m \u001b[39m\u001b[32mIn[2]\u001b[39m\u001b[32m, line 15\u001b[39m\n\u001b[32m     13\u001b[39m categorical_cols = [\u001b[33m'\u001b[39m\u001b[33mGender\u001b[39m\u001b[33m'\u001b[39m, \u001b[33m'\u001b[39m\u001b[33mEthnicity\u001b[39m\u001b[33m'\u001b[39m, \u001b[33m'\u001b[39m\u001b[33mFamilyHistoryAlzheimers\u001b[39m\u001b[33m'\u001b[39m]\n\u001b[32m     14\u001b[39m \u001b[38;5;66;03m#X[categorical_cols] = X[categorical_cols].astype('category')\u001b[39;00m\n\u001b[32m---> \u001b[39m\u001b[32m15\u001b[39m X = pd.get_dummies(\u001b[43mX\u001b[49m, drop_first=\u001b[38;5;28;01mTrue\u001b[39;00m)  \u001b[38;5;66;03m# One-hot encoding\u001b[39;00m\n\u001b[32m     17\u001b[39m \u001b[33;03m''' Scale features '''\u001b[39;00m\n\u001b[32m     18\u001b[39m scaler = StandardScaler()\n",
      "\u001b[31mNameError\u001b[39m: name 'X' is not defined"
     ]
    }
   ],
   "source": [
    "os.chdir('..')\n",
    "NeuroCurveOG = pd.read_csv(\"CSV/alzheimers_disease_data.csv\")\n",
    "\"Drops any unnecessary features of the original dataset\"\n",
    "def pre_process():\n",
    "    usableCSV = NeuroCurveOG.drop(columns=[\"PatientID\", \"Diabetes\", \"CardiovascularDisease\", \"DoctorInCharge\", \"Depression\", \"Depression\", \"SystolicBP\", \"DiastolicBP\"])\n",
    "    usableCSV.to_csv('CSV/output_CSVs/processed.csv')\n",
    "pre_process()\n",
    "usableCSV = pd.read_csv('CSV/output_CSVs/processed.csv')\n",
    "os.chdir('NeuroPy')\n",
    "\n",
    "print(usableCSV.shape)\n",
    "''' Handle categorical variables '''\n",
    "categorical_cols = ['Gender', 'Ethnicity', 'FamilyHistoryAlzheimers']\n",
    "#X[categorical_cols] = X[categorical_cols].astype('category')\n",
    "X = pd.get_dummies(X, drop_first=True)  # One-hot encoding\n",
    "\n",
    "''' Scale features '''\n",
    "scaler = StandardScaler()\n",
    "X_scaled = scaler.fit_transform(X)"
   ]
  },
  {
   "cell_type": "markdown",
   "id": "d0c49d1f",
   "metadata": {},
   "source": [
    "## Model Test Split\n"
   ]
  },
  {
   "cell_type": "code",
   "execution_count": null,
   "id": "fc06c083",
   "metadata": {},
   "outputs": [],
   "source": [
    "''' ----------- Train/Test Split ----------- '''\n",
    "X_train, X_test, y_train, y_test = train_test_split(\n",
    "    X_scaled, y, test_size=0.2, random_state=42, stratify=y\n",
    ")"
   ]
  },
  {
   "cell_type": "markdown",
   "id": "1ac7d584",
   "metadata": {},
   "source": [
    "## Training"
   ]
  },
  {
   "cell_type": "code",
   "execution_count": null,
   "id": "92676af0",
   "metadata": {},
   "outputs": [],
   "source": [
    "''' ----------- Logistic Model Training ----------- '''\n",
    "model = LogisticRegression(class_weight='balanced', max_iter=1000)\n",
    "model.fit(X_train, y_train)\n",
    "\n",
    "'''------------- Decision Tree Model Training ---------'''\n",
    "tree = DecisionTreeClassifier()\n",
    "tree.fit(X_train, y_train)\n",
    "y_pred_tree = tree.predict(X_test)\n",
    "y_prob_tree = tree.predict_proba(X_test)\n",
    "accuracy = accuracy_score(y_test, y_pred_tree)\n",
    "\n",
    "'''------------ Mythical Forest Model Training---------'''\n",
    "forest = RandomForestClassifier(n_estimators=len(X_train), random_state=42)\n",
    "forest.fit(X_train, y_train)\n",
    "\n",
    "'''---------- Forest K-Fold Model Training --------'''\n",
    "kf = StratifiedKFold(n_splits=5, shuffle=True, random_state=42)\n",
    "scores = cross_val_score(forest, X_scaled, y, cv=kf, scoring='accuracy')\n",
    "print(\"Cross-validated accuracy:\", scores.mean())"
   ]
  },
  {
   "cell_type": "markdown",
   "id": "3a99d560",
   "metadata": {},
   "source": [
    "## Analysis"
   ]
  },
  {
   "cell_type": "code",
   "execution_count": null,
   "id": "3c962400",
   "metadata": {},
   "outputs": [],
   "source": [
    "''' ----------- Evaluation ----------- '''\n",
    "y_prob = model.predict_proba(X_test)\n",
    "print(\"Predicted probabilities for the first 5 examples:\\n\", y_prob[:5])\n",
    "y_pred = model.predict(X_test)\n",
    "print(f\"y_pred: {y_pred[:5]}\")\n",
    "print(f\"y_test: {y_test.values[:5]}\")\n",
    "accuracy = accuracy_score(y_test, y_pred)\n",
    "print(f\"Accuracy: {accuracy * 100:.2f}%\")\n",
    "\n",
    "\n",
    "y_prob_forest = forest.predict_proba(X_test)\n",
    "print(\"Predicted probabilities for the first 5 examples:\\n\", y_prob_forest[:5])\n",
    "y_pred_forest = forest.predict(X_test)\n",
    "print(f\"y_pred: {y_pred_forest[:5]}\")\n",
    "print(f\"y_test: {y_test.values[:5]}\")\n",
    "accuracy = accuracy_score(y_test, y_pred_forest)\n",
    "print(f\"Accuracy: {accuracy * 100:.2f}%\")\n"
   ]
  },
  {
   "cell_type": "markdown",
   "id": "22bcd495",
   "metadata": {},
   "source": [
    "# Visualization"
   ]
  },
  {
   "cell_type": "markdown",
   "id": "c5049e18",
   "metadata": {},
   "source": [
    "### Logistic Confusion Matrix"
   ]
  },
  {
   "cell_type": "code",
   "execution_count": null,
   "id": "70f514f2",
   "metadata": {},
   "outputs": [],
   "source": [
    "cm = confusion_matrix(y_test, y_pred)\n",
    "sns.heatmap(cm, annot=True, fmt=\"d\", cmap=\"Blues\")\n",
    "plt.title(\"Confusion Matrix\")\n",
    "plt.ylabel(\"Actual Values\")\n",
    "plt.xlabel(\"Predicted Values\")\n",
    "plt.show()"
   ]
  },
  {
   "cell_type": "markdown",
   "id": "ed2d6dff",
   "metadata": {},
   "source": [
    "### Classification Report: Logistic Confusion Matrix"
   ]
  },
  {
   "cell_type": "code",
   "execution_count": null,
   "id": "7f61dbff",
   "metadata": {},
   "outputs": [],
   "source": [
    "print(\"Classification Report:\")\n",
    "print(classification_report(y_test, y_pred))"
   ]
  },
  {
   "cell_type": "markdown",
   "id": "d8b1087b",
   "metadata": {},
   "source": [
    "### Mythical Forest Confusion Matrix"
   ]
  },
  {
   "cell_type": "code",
   "execution_count": null,
   "id": "4ea8ee6a",
   "metadata": {},
   "outputs": [],
   "source": [
    "cm1 = confusion_matrix(y_test, y_pred_forest)\n",
    "sns.heatmap(cm1, annot=True, fmt=\"d\", cmap=\"Blues\")\n",
    "plt.title(\"Mythical Forest Confusion Matrix\")\n",
    "plt.ylabel(\"Alzheimers Diagnosis\")\n",
    "plt.xlabel(\"Predicted Diagnosis\")\n",
    "plt.show()"
   ]
  },
  {
   "cell_type": "markdown",
   "id": "c7c39fc8",
   "metadata": {},
   "source": [
    "### Classification Report: Mythical Forest Confusion Matrix"
   ]
  },
  {
   "cell_type": "code",
   "execution_count": null,
   "id": "1d71e5c3",
   "metadata": {},
   "outputs": [],
   "source": [
    "print(\"Classification Report :\")\n",
    "print(classification_report(y_test, y_pred_forest))"
   ]
  },
  {
   "cell_type": "markdown",
   "id": "aee650d1",
   "metadata": {},
   "source": [
    "### Logistic Regression ROC Curve"
   ]
  },
  {
   "cell_type": "code",
   "execution_count": null,
   "id": "9b27db2a",
   "metadata": {},
   "outputs": [],
   "source": [
    "y_prob_class1 = y_prob[:, 1]\n",
    "fpr, tpr, thresholds = roc_curve(y_test, y_prob_class1)\n",
    "roc_auc = roc_auc_score(y_test, y_prob_class1)\n",
    "plt.figure(figsize=(8, 6))\n",
    "plt.plot(fpr, tpr, label=f'ROC Curve (AUC = {roc_auc:.2f})', color='darkorange')\n",
    "plt.plot([0, 1], [0, 1], color='navy', linestyle='--')\n",
    "plt.xlabel('False Positive Rate')\n",
    "plt.ylabel('True Positive Rate')\n",
    "plt.title('Receiver Operating Characteristic (ROC) Curve')\n",
    "plt.legend(loc=\"lower right\")\n",
    "plt.show()"
   ]
  },
  {
   "cell_type": "markdown",
   "id": "fed1c179",
   "metadata": {},
   "source": [
    "### Mytical Forest ROC Curve"
   ]
  },
  {
   "cell_type": "code",
   "execution_count": null,
   "id": "8cc334c8",
   "metadata": {},
   "outputs": [],
   "source": [
    "y_prob_forest = y_prob_forest[:, 1]\n",
    "fpr, tpr, thresholds = roc_curve(y_test, y_prob_forest)\n",
    "roc_auc = roc_auc_score(y_test, y_prob_forest)\n",
    "plt.figure(figsize=(8, 6))\n",
    "plt.plot(fpr, tpr, label=f'ROC Curve (AUC = {roc_auc:.2f})', color='darkorange')\n",
    "plt.plot([0, 1], [0, 1], color='navy', linestyle='--')\n",
    "plt.xlabel('False Positive Rate')\n",
    "plt.ylabel('True Positive Rate')\n",
    "plt.title('Receiver Operating Characteristic (ROC) Curve')\n",
    "plt.legend(loc=\"lower right\")\n",
    "plt.show()"
   ]
  },
  {
   "cell_type": "code",
   "execution_count": null,
   "id": "6077167c",
   "metadata": {},
   "outputs": [],
   "source": [
    "\"\"\"\n",
    "param_grid = {\n",
    "    'C': [0.01, 0.1, 1, 10],\n",
    "    'penalty': ['l1', 'l2'],\n",
    "    'solver': ['liblinear']\n",
    "}\n",
    "grid = GridSearchCV(LogisticRegression(class_weight='balanced', max_iter=1000), param_grid, cv=5, scoring='roc_auc')\n",
    "grid.fit(X_train, y_train)\n",
    "print(\"Best Parameters:\", grid.best_params_)\n",
    "\"\"\""
   ]
  }
 ],
 "metadata": {
  "kernelspec": {
   "display_name": "Python 3",
   "language": "python",
   "name": "python3"
  },
  "language_info": {
   "codemirror_mode": {
    "name": "ipython",
    "version": 3
   },
   "file_extension": ".py",
   "mimetype": "text/x-python",
   "name": "python",
   "nbconvert_exporter": "python",
   "pygments_lexer": "ipython3",
   "version": "3.13.3"
  }
 },
 "nbformat": 4,
 "nbformat_minor": 5
}
