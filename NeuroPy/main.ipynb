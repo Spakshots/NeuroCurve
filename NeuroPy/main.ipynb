{
 "cells": [
  {
   "cell_type": "code",
   "execution_count": 7,
   "id": "bd10a2c8",
   "metadata": {},
   "outputs": [
    {
     "name": "stdout",
     "output_type": "stream",
     "text": [
      "Missing packages detected: scikit-learn\n",
      "Installing missing packages...🤔\n",
      "Requirement already satisfied: pandas in /Library/Frameworks/Python.framework/Versions/3.13/lib/python3.13/site-packages (from -r requirements.txt (line 1)) (2.2.3)\n",
      "Requirement already satisfied: matplotlib in /Users/spenceroldoerp/Library/Python/3.13/lib/python/site-packages (from -r requirements.txt (line 2)) (3.10.1)\n",
      "Requirement already satisfied: numpy in /Users/spenceroldoerp/Library/Python/3.13/lib/python/site-packages (from -r requirements.txt (line 3)) (2.2.4)\n",
      "Requirement already satisfied: scikit-learn in /Library/Frameworks/Python.framework/Versions/3.13/lib/python3.13/site-packages (from -r requirements.txt (line 4)) (1.7.0)\n",
      "Requirement already satisfied: python-dateutil>=2.8.2 in /Users/spenceroldoerp/Library/Python/3.13/lib/python/site-packages (from pandas->-r requirements.txt (line 1)) (2.9.0.post0)\n",
      "Requirement already satisfied: pytz>=2020.1 in /Users/spenceroldoerp/Library/Python/3.13/lib/python/site-packages (from pandas->-r requirements.txt (line 1)) (2025.2)\n",
      "Requirement already satisfied: tzdata>=2022.7 in /Users/spenceroldoerp/Library/Python/3.13/lib/python/site-packages (from pandas->-r requirements.txt (line 1)) (2025.2)\n",
      "Requirement already satisfied: contourpy>=1.0.1 in /Users/spenceroldoerp/Library/Python/3.13/lib/python/site-packages (from matplotlib->-r requirements.txt (line 2)) (1.3.1)\n",
      "Requirement already satisfied: cycler>=0.10 in /Users/spenceroldoerp/Library/Python/3.13/lib/python/site-packages (from matplotlib->-r requirements.txt (line 2)) (0.12.1)\n",
      "Requirement already satisfied: fonttools>=4.22.0 in /Users/spenceroldoerp/Library/Python/3.13/lib/python/site-packages (from matplotlib->-r requirements.txt (line 2)) (4.57.0)\n",
      "Requirement already satisfied: kiwisolver>=1.3.1 in /Users/spenceroldoerp/Library/Python/3.13/lib/python/site-packages (from matplotlib->-r requirements.txt (line 2)) (1.4.8)\n",
      "Requirement already satisfied: packaging>=20.0 in /Users/spenceroldoerp/Library/Python/3.13/lib/python/site-packages (from matplotlib->-r requirements.txt (line 2)) (24.2)\n",
      "Requirement already satisfied: pillow>=8 in /Users/spenceroldoerp/Library/Python/3.13/lib/python/site-packages (from matplotlib->-r requirements.txt (line 2)) (11.1.0)\n",
      "Requirement already satisfied: pyparsing>=2.3.1 in /Users/spenceroldoerp/Library/Python/3.13/lib/python/site-packages (from matplotlib->-r requirements.txt (line 2)) (3.2.3)\n",
      "Requirement already satisfied: scipy>=1.8.0 in /Library/Frameworks/Python.framework/Versions/3.13/lib/python3.13/site-packages (from scikit-learn->-r requirements.txt (line 4)) (1.16.0)\n",
      "Requirement already satisfied: joblib>=1.2.0 in /Library/Frameworks/Python.framework/Versions/3.13/lib/python3.13/site-packages (from scikit-learn->-r requirements.txt (line 4)) (1.5.1)\n",
      "Requirement already satisfied: threadpoolctl>=3.1.0 in /Library/Frameworks/Python.framework/Versions/3.13/lib/python3.13/site-packages (from scikit-learn->-r requirements.txt (line 4)) (3.6.0)\n",
      "Requirement already satisfied: six>=1.5 in /Users/spenceroldoerp/Library/Python/3.13/lib/python/site-packages (from python-dateutil>=2.8.2->pandas->-r requirements.txt (line 1)) (1.17.0)\n"
     ]
    },
    {
     "data": {
      "image/png": "[encoded data removed]",
      "text/plain": [
       "<Figure size 640x480 with 1 Axes>"
      ]
     },
     "metadata": {},
     "output_type": "display_data"
    }
   ],
   "source": [
    "from setup import *\n",
    "from NeuroPy.firstgraph import *\n",
    "from NeuroCurveImports import *\n",
    "#from pre_process import *\n",
    "\n",
    "def requirements():\n",
    "    required_packages = get_required_packages()\n",
    "    missing_packages = [pkg for pkg in required_packages if not is_package_installed(pkg)]\n",
    "    if missing_packages:\n",
    "        print(f\"Missing packages detected: {', '.join(missing_packages)}\")\n",
    "        print(\"Installing missing packages...🤔\")\n",
    "        install_requirements()\n",
    "    else:\n",
    "        print(\"All required packages are already installed. 👍\")\n",
    "\n",
    "\n",
    "\n",
    "\n",
    "requirements()\n",
    "firstgraph()\n",
    "#print(usableCSV.isna().sum())"
   ]
  }
 ],
 "metadata": {
  "kernelspec": {
   "display_name": "Python 3",
   "language": "python",
   "name": "python3"
  },
  "language_info": {
   "codemirror_mode": {
    "name": "ipython",
    "version": 3
   },
   "file_extension": ".py",
   "mimetype": "text/x-python",
   "name": "python",
   "nbconvert_exporter": "python",
   "pygments_lexer": "ipython3",
   "version": "3.13.3"
  }
 },
 "nbformat": 4,
 "nbformat_minor": 5
}
